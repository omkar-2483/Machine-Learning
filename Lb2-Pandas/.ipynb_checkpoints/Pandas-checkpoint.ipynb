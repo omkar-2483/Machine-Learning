{
 "cells": [
  {
   "cell_type": "code",
   "execution_count": 2,
   "id": "00776550-951b-4dca-815f-8348fa8261ac",
   "metadata": {},
   "outputs": [
    {
     "name": "stderr",
     "output_type": "stream",
     "text": [
      "C:\\Users\\Shubham\\AppData\\Local\\Temp\\ipykernel_6716\\1662815981.py:2: DeprecationWarning: \n",
      "Pyarrow will become a required dependency of pandas in the next major release of pandas (pandas 3.0),\n",
      "(to allow more performant data types, such as the Arrow string type, and better interoperability with other libraries)\n",
      "but was not found to be installed on your system.\n",
      "If this would cause problems for you,\n",
      "please provide us feedback at https://github.com/pandas-dev/pandas/issues/54466\n",
      "        \n",
      "  import pandas as pd\n"
     ]
    }
   ],
   "source": [
    "import numpy as np\n",
    "import pandas as pd"
   ]
  },
  {
   "cell_type": "code",
   "execution_count": 2,
   "id": "0f8624ae-0292-49b2-9da7-01bb82061ea3",
   "metadata": {},
   "outputs": [
    {
     "name": "stdout",
     "output_type": "stream",
     "text": [
      "   calories  duration\n",
      "0       100       500\n",
      "1       200       400\n",
      "2       300        20\n",
      "3       400        30\n",
      "4       500        40\n",
      "5       600        50\n",
      "======================================================================\n",
      "   calories  duration\n",
      "0       100       500\n",
      "1       200       400\n",
      "======================================================================\n",
      "      calories  duration\n",
      "day1       100       500\n",
      "day2       200       400\n",
      "day3       300        20\n",
      "day4       400        30\n",
      "day5       500        40\n",
      "day6       600        50\n"
     ]
    }
   ],
   "source": [
    "\n",
    "data={\n",
    "    'calories':[100,200,300,400,500,600],\n",
    "    'duration':[500,400,20,30,40,50]\n",
    "}\n",
    "\n",
    "df=pd.DataFrame(data)\n",
    "print(df)\n",
    "print(\"======================================================================\")\n",
    "print(df.loc[[0,1]])\n",
    "print(\"======================================================================\")\n",
    "df=pd.DataFrame(data,index=[\"day1\",\"day2\",\"day3\",\"day4\",\"day5\",\"day6\"])\n",
    "print(df)"
   ]
  },
  {
   "cell_type": "code",
   "execution_count": 3,
   "id": "1d4c1aeb-64e4-4f05-84b3-26a661b7e7cd",
   "metadata": {},
   "outputs": [],
   "source": [
    "dict={\n",
    "    \"name\":['omkar','nil','ayush','krishna'],\n",
    "    \"marks\":[97,67,45,35],\n",
    "    \"city\":['rampur','hipparga','shirdi','nanded']\n",
    "}"
   ]
  },
  {
   "cell_type": "code",
   "execution_count": 5,
   "id": "38a1a28d-f0d5-40eb-a13a-09c9a3e6392d",
   "metadata": {},
   "outputs": [],
   "source": [
    "df=pd.DataFrame(dict) #create dataframe like excel sheet"
   ]
  },
  {
   "cell_type": "code",
   "execution_count": 6,
   "id": "3dedac0a-bb67-4215-aaa2-ac4a6ad1582f",
   "metadata": {},
   "outputs": [
    {
     "data": {
      "text/html": [
       "<div>\n",
       "<style scoped>\n",
       "    .dataframe tbody tr th:only-of-type {\n",
       "        vertical-align: middle;\n",
       "    }\n",
       "\n",
       "    .dataframe tbody tr th {\n",
       "        vertical-align: top;\n",
       "    }\n",
       "\n",
       "    .dataframe thead th {\n",
       "        text-align: right;\n",
       "    }\n",
       "</style>\n",
       "<table border=\"1\" class=\"dataframe\">\n",
       "  <thead>\n",
       "    <tr style=\"text-align: right;\">\n",
       "      <th></th>\n",
       "      <th>name</th>\n",
       "      <th>marks</th>\n",
       "      <th>city</th>\n",
       "    </tr>\n",
       "  </thead>\n",
       "  <tbody>\n",
       "    <tr>\n",
       "      <th>0</th>\n",
       "      <td>omkar</td>\n",
       "      <td>97</td>\n",
       "      <td>rampur</td>\n",
       "    </tr>\n",
       "    <tr>\n",
       "      <th>1</th>\n",
       "      <td>nil</td>\n",
       "      <td>67</td>\n",
       "      <td>hipparga</td>\n",
       "    </tr>\n",
       "    <tr>\n",
       "      <th>2</th>\n",
       "      <td>ayush</td>\n",
       "      <td>45</td>\n",
       "      <td>shirdi</td>\n",
       "    </tr>\n",
       "    <tr>\n",
       "      <th>3</th>\n",
       "      <td>krishna</td>\n",
       "      <td>35</td>\n",
       "      <td>nanded</td>\n",
       "    </tr>\n",
       "  </tbody>\n",
       "</table>\n",
       "</div>"
      ],
      "text/plain": [
       "      name  marks      city\n",
       "0    omkar     97    rampur\n",
       "1      nil     67  hipparga\n",
       "2    ayush     45    shirdi\n",
       "3  krishna     35    nanded"
      ]
     },
     "execution_count": 6,
     "metadata": {},
     "output_type": "execute_result"
    }
   ],
   "source": [
    "df"
   ]
  },
  {
   "cell_type": "code",
   "execution_count": 7,
   "id": "0cc76bab-dda4-4366-9b71-ca9f6e798098",
   "metadata": {},
   "outputs": [],
   "source": [
    "#convert this dataframe to exvel file\n",
    "df.to_csv('friends.csv')"
   ]
  },
  {
   "cell_type": "code",
   "execution_count": 9,
   "id": "a570acfa-1f66-43f5-aafc-49d31272d379",
   "metadata": {},
   "outputs": [],
   "source": [
    "#if you dont want index in csv file\n",
    "df.to_csv('friends_withount_index.csv',index=False)"
   ]
  },
  {
   "cell_type": "code",
   "execution_count": 11,
   "id": "dd0e9cf7-9749-4ae7-86d9-ed7d52e6c192",
   "metadata": {},
   "outputs": [
    {
     "data": {
      "text/html": [
       "<div>\n",
       "<style scoped>\n",
       "    .dataframe tbody tr th:only-of-type {\n",
       "        vertical-align: middle;\n",
       "    }\n",
       "\n",
       "    .dataframe tbody tr th {\n",
       "        vertical-align: top;\n",
       "    }\n",
       "\n",
       "    .dataframe thead th {\n",
       "        text-align: right;\n",
       "    }\n",
       "</style>\n",
       "<table border=\"1\" class=\"dataframe\">\n",
       "  <thead>\n",
       "    <tr style=\"text-align: right;\">\n",
       "      <th></th>\n",
       "      <th>name</th>\n",
       "      <th>marks</th>\n",
       "      <th>city</th>\n",
       "    </tr>\n",
       "  </thead>\n",
       "  <tbody>\n",
       "    <tr>\n",
       "      <th>0</th>\n",
       "      <td>omkar</td>\n",
       "      <td>97</td>\n",
       "      <td>rampur</td>\n",
       "    </tr>\n",
       "    <tr>\n",
       "      <th>1</th>\n",
       "      <td>nil</td>\n",
       "      <td>67</td>\n",
       "      <td>hipparga</td>\n",
       "    </tr>\n",
       "  </tbody>\n",
       "</table>\n",
       "</div>"
      ],
      "text/plain": [
       "    name  marks      city\n",
       "0  omkar     97    rampur\n",
       "1    nil     67  hipparga"
      ]
     },
     "execution_count": 11,
     "metadata": {},
     "output_type": "execute_result"
    }
   ],
   "source": [
    "df.head(2)\n"
   ]
  },
  {
   "cell_type": "code",
   "execution_count": 12,
   "id": "175c4cd7-bf49-4254-a117-145c3d82fd8a",
   "metadata": {},
   "outputs": [
    {
     "data": {
      "text/html": [
       "<div>\n",
       "<style scoped>\n",
       "    .dataframe tbody tr th:only-of-type {\n",
       "        vertical-align: middle;\n",
       "    }\n",
       "\n",
       "    .dataframe tbody tr th {\n",
       "        vertical-align: top;\n",
       "    }\n",
       "\n",
       "    .dataframe thead th {\n",
       "        text-align: right;\n",
       "    }\n",
       "</style>\n",
       "<table border=\"1\" class=\"dataframe\">\n",
       "  <thead>\n",
       "    <tr style=\"text-align: right;\">\n",
       "      <th></th>\n",
       "      <th>name</th>\n",
       "      <th>marks</th>\n",
       "      <th>city</th>\n",
       "    </tr>\n",
       "  </thead>\n",
       "  <tbody>\n",
       "    <tr>\n",
       "      <th>2</th>\n",
       "      <td>ayush</td>\n",
       "      <td>45</td>\n",
       "      <td>shirdi</td>\n",
       "    </tr>\n",
       "    <tr>\n",
       "      <th>3</th>\n",
       "      <td>krishna</td>\n",
       "      <td>35</td>\n",
       "      <td>nanded</td>\n",
       "    </tr>\n",
       "  </tbody>\n",
       "</table>\n",
       "</div>"
      ],
      "text/plain": [
       "      name  marks    city\n",
       "2    ayush     45  shirdi\n",
       "3  krishna     35  nanded"
      ]
     },
     "execution_count": 12,
     "metadata": {},
     "output_type": "execute_result"
    }
   ],
   "source": [
    "df.tail(2)"
   ]
  },
  {
   "cell_type": "code",
   "execution_count": 13,
   "id": "27946180-eb13-4db2-9ccc-3a51c4b21db1",
   "metadata": {},
   "outputs": [
    {
     "data": {
      "text/html": [
       "<div>\n",
       "<style scoped>\n",
       "    .dataframe tbody tr th:only-of-type {\n",
       "        vertical-align: middle;\n",
       "    }\n",
       "\n",
       "    .dataframe tbody tr th {\n",
       "        vertical-align: top;\n",
       "    }\n",
       "\n",
       "    .dataframe thead th {\n",
       "        text-align: right;\n",
       "    }\n",
       "</style>\n",
       "<table border=\"1\" class=\"dataframe\">\n",
       "  <thead>\n",
       "    <tr style=\"text-align: right;\">\n",
       "      <th></th>\n",
       "      <th>marks</th>\n",
       "    </tr>\n",
       "  </thead>\n",
       "  <tbody>\n",
       "    <tr>\n",
       "      <th>count</th>\n",
       "      <td>4.000000</td>\n",
       "    </tr>\n",
       "    <tr>\n",
       "      <th>mean</th>\n",
       "      <td>61.000000</td>\n",
       "    </tr>\n",
       "    <tr>\n",
       "      <th>std</th>\n",
       "      <td>27.471197</td>\n",
       "    </tr>\n",
       "    <tr>\n",
       "      <th>min</th>\n",
       "      <td>35.000000</td>\n",
       "    </tr>\n",
       "    <tr>\n",
       "      <th>25%</th>\n",
       "      <td>42.500000</td>\n",
       "    </tr>\n",
       "    <tr>\n",
       "      <th>50%</th>\n",
       "      <td>56.000000</td>\n",
       "    </tr>\n",
       "    <tr>\n",
       "      <th>75%</th>\n",
       "      <td>74.500000</td>\n",
       "    </tr>\n",
       "    <tr>\n",
       "      <th>max</th>\n",
       "      <td>97.000000</td>\n",
       "    </tr>\n",
       "  </tbody>\n",
       "</table>\n",
       "</div>"
      ],
      "text/plain": [
       "           marks\n",
       "count   4.000000\n",
       "mean   61.000000\n",
       "std    27.471197\n",
       "min    35.000000\n",
       "25%    42.500000\n",
       "50%    56.000000\n",
       "75%    74.500000\n",
       "max    97.000000"
      ]
     },
     "execution_count": 13,
     "metadata": {},
     "output_type": "execute_result"
    }
   ],
   "source": [
    "df.describe()"
   ]
  },
  {
   "cell_type": "code",
   "execution_count": 22,
   "id": "e000e571-48d1-47b1-8f83-b3fc707fca5e",
   "metadata": {},
   "outputs": [],
   "source": [
    "#conver from csv to dataframe\n",
    "omkar = pd.read_csv('omkar.csv')"
   ]
  },
  {
   "cell_type": "code",
   "execution_count": 23,
   "id": "afa072e3-b5ab-4187-b9bd-0327a762a591",
   "metadata": {},
   "outputs": [
    {
     "data": {
      "text/html": [
       "<div>\n",
       "<style scoped>\n",
       "    .dataframe tbody tr th:only-of-type {\n",
       "        vertical-align: middle;\n",
       "    }\n",
       "\n",
       "    .dataframe tbody tr th {\n",
       "        vertical-align: top;\n",
       "    }\n",
       "\n",
       "    .dataframe thead th {\n",
       "        text-align: right;\n",
       "    }\n",
       "</style>\n",
       "<table border=\"1\" class=\"dataframe\">\n",
       "  <thead>\n",
       "    <tr style=\"text-align: right;\">\n",
       "      <th></th>\n",
       "      <th>roll no</th>\n",
       "      <th>name</th>\n",
       "      <th>city</th>\n",
       "    </tr>\n",
       "  </thead>\n",
       "  <tbody>\n",
       "    <tr>\n",
       "      <th>0</th>\n",
       "      <td>1</td>\n",
       "      <td>omkar</td>\n",
       "      <td>rampur</td>\n",
       "    </tr>\n",
       "    <tr>\n",
       "      <th>1</th>\n",
       "      <td>2</td>\n",
       "      <td>krishna</td>\n",
       "      <td>nanded</td>\n",
       "    </tr>\n",
       "    <tr>\n",
       "      <th>2</th>\n",
       "      <td>3</td>\n",
       "      <td>ayush</td>\n",
       "      <td>shirdi</td>\n",
       "    </tr>\n",
       "    <tr>\n",
       "      <th>3</th>\n",
       "      <td>4</td>\n",
       "      <td>nil</td>\n",
       "      <td>hipparga</td>\n",
       "    </tr>\n",
       "    <tr>\n",
       "      <th>4</th>\n",
       "      <td>5</td>\n",
       "      <td>manasi</td>\n",
       "      <td>jalna</td>\n",
       "    </tr>\n",
       "  </tbody>\n",
       "</table>\n",
       "</div>"
      ],
      "text/plain": [
       "   roll no     name      city\n",
       "0        1    omkar    rampur\n",
       "1        2  krishna    nanded\n",
       "2        3    ayush    shirdi\n",
       "3        4      nil  hipparga\n",
       "4        5   manasi     jalna"
      ]
     },
     "execution_count": 23,
     "metadata": {},
     "output_type": "execute_result"
    }
   ],
   "source": [
    "omkar"
   ]
  },
  {
   "cell_type": "code",
   "execution_count": 25,
   "id": "e1df1ea1-496f-4e33-bd5c-f6e50d02fb6f",
   "metadata": {},
   "outputs": [
    {
     "data": {
      "text/plain": [
       "0      omkar\n",
       "1    krishna\n",
       "2      ayush\n",
       "3        nil\n",
       "4     manasi\n",
       "Name: name, dtype: object"
      ]
     },
     "execution_count": 25,
     "metadata": {},
     "output_type": "execute_result"
    }
   ],
   "source": [
    "omkar['name']"
   ]
  },
  {
   "cell_type": "code",
   "execution_count": 26,
   "id": "4e3a60be-8524-4b0e-aae8-298fb0b80d54",
   "metadata": {},
   "outputs": [
    {
     "data": {
      "text/plain": [
       "'nil'"
      ]
     },
     "execution_count": 26,
     "metadata": {},
     "output_type": "execute_result"
    }
   ],
   "source": [
    "omkar['name'][3]"
   ]
  },
  {
   "cell_type": "code",
   "execution_count": 28,
   "id": "7e59f9de-ef57-4d98-a600-889a97debc50",
   "metadata": {},
   "outputs": [
    {
     "name": "stderr",
     "output_type": "stream",
     "text": [
      "C:\\Users\\Shubham\\AppData\\Local\\Temp\\ipykernel_4268\\4146229709.py:1: SettingWithCopyWarning: \n",
      "A value is trying to be set on a copy of a slice from a DataFrame\n",
      "\n",
      "See the caveats in the documentation: https://pandas.pydata.org/pandas-docs/stable/user_guide/indexing.html#returning-a-view-versus-a-copy\n",
      "  omkar['name'][0]='kasture'\n"
     ]
    }
   ],
   "source": [
    "omkar['name'][0]='kasture'"
   ]
  },
  {
   "cell_type": "code",
   "execution_count": 29,
   "id": "8a3dd3c9-1f11-45f0-bb21-1bbf7a2bd2c8",
   "metadata": {},
   "outputs": [
    {
     "data": {
      "text/html": [
       "<div>\n",
       "<style scoped>\n",
       "    .dataframe tbody tr th:only-of-type {\n",
       "        vertical-align: middle;\n",
       "    }\n",
       "\n",
       "    .dataframe tbody tr th {\n",
       "        vertical-align: top;\n",
       "    }\n",
       "\n",
       "    .dataframe thead th {\n",
       "        text-align: right;\n",
       "    }\n",
       "</style>\n",
       "<table border=\"1\" class=\"dataframe\">\n",
       "  <thead>\n",
       "    <tr style=\"text-align: right;\">\n",
       "      <th></th>\n",
       "      <th>roll no</th>\n",
       "      <th>name</th>\n",
       "      <th>city</th>\n",
       "    </tr>\n",
       "  </thead>\n",
       "  <tbody>\n",
       "    <tr>\n",
       "      <th>0</th>\n",
       "      <td>1</td>\n",
       "      <td>kasture</td>\n",
       "      <td>rampur</td>\n",
       "    </tr>\n",
       "    <tr>\n",
       "      <th>1</th>\n",
       "      <td>2</td>\n",
       "      <td>krishna</td>\n",
       "      <td>nanded</td>\n",
       "    </tr>\n",
       "    <tr>\n",
       "      <th>2</th>\n",
       "      <td>3</td>\n",
       "      <td>ayush</td>\n",
       "      <td>shirdi</td>\n",
       "    </tr>\n",
       "    <tr>\n",
       "      <th>3</th>\n",
       "      <td>4</td>\n",
       "      <td>nil</td>\n",
       "      <td>hipparga</td>\n",
       "    </tr>\n",
       "    <tr>\n",
       "      <th>4</th>\n",
       "      <td>5</td>\n",
       "      <td>manasi</td>\n",
       "      <td>jalna</td>\n",
       "    </tr>\n",
       "  </tbody>\n",
       "</table>\n",
       "</div>"
      ],
      "text/plain": [
       "   roll no     name      city\n",
       "0        1  kasture    rampur\n",
       "1        2  krishna    nanded\n",
       "2        3    ayush    shirdi\n",
       "3        4      nil  hipparga\n",
       "4        5   manasi     jalna"
      ]
     },
     "execution_count": 29,
     "metadata": {},
     "output_type": "execute_result"
    }
   ],
   "source": [
    "omkar\n"
   ]
  },
  {
   "cell_type": "code",
   "execution_count": 30,
   "id": "71ff01de-3b5f-45aa-ba86-9d35a3192918",
   "metadata": {},
   "outputs": [],
   "source": [
    "# save changes in local file\n",
    "omkar.to_csv('omkar.csv')"
   ]
  },
  {
   "cell_type": "code",
   "execution_count": 32,
   "id": "9ef87180-b5c4-454c-8cd2-be7dd9553cf3",
   "metadata": {},
   "outputs": [],
   "source": [
    "# change index\n",
    "omkar.index=['first','second','third','fourth','fifth']"
   ]
  },
  {
   "cell_type": "code",
   "execution_count": 33,
   "id": "cbcc41d0-bf0d-489f-b605-26eb176e5a13",
   "metadata": {},
   "outputs": [
    {
     "data": {
      "text/html": [
       "<div>\n",
       "<style scoped>\n",
       "    .dataframe tbody tr th:only-of-type {\n",
       "        vertical-align: middle;\n",
       "    }\n",
       "\n",
       "    .dataframe tbody tr th {\n",
       "        vertical-align: top;\n",
       "    }\n",
       "\n",
       "    .dataframe thead th {\n",
       "        text-align: right;\n",
       "    }\n",
       "</style>\n",
       "<table border=\"1\" class=\"dataframe\">\n",
       "  <thead>\n",
       "    <tr style=\"text-align: right;\">\n",
       "      <th></th>\n",
       "      <th>roll no</th>\n",
       "      <th>name</th>\n",
       "      <th>city</th>\n",
       "    </tr>\n",
       "  </thead>\n",
       "  <tbody>\n",
       "    <tr>\n",
       "      <th>first</th>\n",
       "      <td>1</td>\n",
       "      <td>kasture</td>\n",
       "      <td>rampur</td>\n",
       "    </tr>\n",
       "    <tr>\n",
       "      <th>second</th>\n",
       "      <td>2</td>\n",
       "      <td>krishna</td>\n",
       "      <td>nanded</td>\n",
       "    </tr>\n",
       "    <tr>\n",
       "      <th>third</th>\n",
       "      <td>3</td>\n",
       "      <td>ayush</td>\n",
       "      <td>shirdi</td>\n",
       "    </tr>\n",
       "    <tr>\n",
       "      <th>fourth</th>\n",
       "      <td>4</td>\n",
       "      <td>nil</td>\n",
       "      <td>hipparga</td>\n",
       "    </tr>\n",
       "    <tr>\n",
       "      <th>fifth</th>\n",
       "      <td>5</td>\n",
       "      <td>manasi</td>\n",
       "      <td>jalna</td>\n",
       "    </tr>\n",
       "  </tbody>\n",
       "</table>\n",
       "</div>"
      ],
      "text/plain": [
       "        roll no     name      city\n",
       "first         1  kasture    rampur\n",
       "second        2  krishna    nanded\n",
       "third         3    ayush    shirdi\n",
       "fourth        4      nil  hipparga\n",
       "fifth         5   manasi     jalna"
      ]
     },
     "execution_count": 33,
     "metadata": {},
     "output_type": "execute_result"
    }
   ],
   "source": [
    "omkar"
   ]
  },
  {
   "cell_type": "code",
   "execution_count": 7,
   "id": "b58a47d5-6024-44a8-b9b7-8ccc80820247",
   "metadata": {},
   "outputs": [
    {
     "name": "stdout",
     "output_type": "stream",
     "text": [
      "      Name  Age  Address Qualification\n",
      "0    omkar   19   nanded         Btech\n",
      "1    ayush   20   shirdi           BCA\n",
      "2  krishna   40   nanded           BBA\n",
      "3  atharva   31  solapur           BSC\n",
      "4     nill   14   nanded          MBBS\n"
     ]
    }
   ],
   "source": [
    "#converting and overwriting values in column\n",
    "data={\n",
    "    'Name':['omkar','ayush','krishna','atharva','nill'],\n",
    "    'Age':[19,20,40,31,14],\n",
    "    'Address':['nanded','shirdi','nanded','solapur','nanded'],\n",
    "    'Qualification':[\"Btech\",\"BCA\",\"BBA\",\"BSC\",\"MBBS\"]\n",
    "}\n",
    "\n",
    "df=pd.DataFrame(data)\n",
    "print(df)"
   ]
  },
  {
   "cell_type": "code",
   "execution_count": null,
   "id": "a6b83a99-50b7-4d6f-ad45-831405b6f05e",
   "metadata": {},
   "outputs": [],
   "source": []
  }
 ],
 "metadata": {
  "kernelspec": {
   "display_name": "Python 3 (ipykernel)",
   "language": "python",
   "name": "python3"
  },
  "language_info": {
   "codemirror_mode": {
    "name": "ipython",
    "version": 3
   },
   "file_extension": ".py",
   "mimetype": "text/x-python",
   "name": "python",
   "nbconvert_exporter": "python",
   "pygments_lexer": "ipython3",
   "version": "3.10.9"
  }
 },
 "nbformat": 4,
 "nbformat_minor": 5
}
